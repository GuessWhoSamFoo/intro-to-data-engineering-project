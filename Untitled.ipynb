{
 "cells": [
  {
   "cell_type": "code",
   "execution_count": 1,
   "metadata": {},
   "outputs": [],
   "source": [
    "from dask.distributed import Client"
   ]
  },
  {
   "cell_type": "code",
   "execution_count": 18,
   "metadata": {},
   "outputs": [
    {
     "name": "stdout",
     "output_type": "stream",
     "text": [
      "{\n",
      "  \"type\": \"Scheduler\",\n",
      "  \"id\": \"Scheduler-273a6ba6-fd99-41d1-8c7d-17e39185ff3b\",\n",
      "  \"address\": \"tcp://172.104.15.99:8786\",\n",
      "  \"services\": {\n",
      "    \"bokeh\": 8787\n",
      "  },\n",
      "  \"workers\": {\n",
      "    \"tcp://172.104.15.99:40453\": {\n",
      "      \"name\": \"tcp://172.104.15.99:40453\",\n",
      "      \"memory_limit\": 1027383296,\n",
      "      \"host\": \"172.104.15.99\",\n",
      "      \"resources\": {},\n",
      "      \"ncores\": 1,\n",
      "      \"services\": {\n",
      "        \"nanny\": 40427,\n",
      "        \"bokeh\": 8789\n",
      "      },\n",
      "      \"local_directory\": \"/home/sfoo/dask-worker-space/worker-tw57fv45\",\n",
      "      \"pid\": 11782,\n",
      "      \"cpu\": 4.0,\n",
      "      \"memory\": 261586944,\n",
      "      \"time\": 1521002473.204197,\n",
      "      \"read_bytes\": 9580.57673633343,\n",
      "      \"write_bytes\": 8372.991499709464,\n",
      "      \"num_fds\": 27,\n",
      "      \"executing\": 0,\n",
      "      \"in_memory\": 0,\n",
      "      \"ready\": 0,\n",
      "      \"in_flight\": 0\n",
      "    },\n",
      "    \"tcp://45.33.119.129:38647\": {\n",
      "      \"name\": \"tcp://45.33.119.129:38647\",\n",
      "      \"memory_limit\": 1027383296,\n",
      "      \"host\": \"45.33.119.129\",\n",
      "      \"resources\": {},\n",
      "      \"ncores\": 1,\n",
      "      \"services\": {\n",
      "        \"nanny\": 43233,\n",
      "        \"bokeh\": 8789\n",
      "      },\n",
      "      \"local_directory\": \"/home/sfoo/dask-worker-space/worker-b7gmhi6q\",\n",
      "      \"pid\": 2891,\n",
      "      \"cpu\": 2.0,\n",
      "      \"memory\": 78848000,\n",
      "      \"time\": 1521002472.9940026,\n",
      "      \"read_bytes\": 549.2292491530145,\n",
      "      \"write_bytes\": 1140.3996409686229,\n",
      "      \"num_fds\": 27,\n",
      "      \"executing\": 0,\n",
      "      \"in_memory\": 0,\n",
      "      \"ready\": 0,\n",
      "      \"in_flight\": 0\n",
      "    },\n",
      "    \"tcp://69.164.222.170:45735\": {\n",
      "      \"name\": \"tcp://69.164.222.170:45735\",\n",
      "      \"memory_limit\": 1027383296,\n",
      "      \"host\": \"69.164.222.170\",\n",
      "      \"resources\": {},\n",
      "      \"ncores\": 1,\n",
      "      \"services\": {\n",
      "        \"nanny\": 34903,\n",
      "        \"bokeh\": 8789\n",
      "      },\n",
      "      \"local_directory\": \"/home/sfoo/dask-worker-space/worker-movkx12b\",\n",
      "      \"pid\": 2896,\n",
      "      \"cpu\": 4.0,\n",
      "      \"memory\": 79007744,\n",
      "      \"time\": 1521002473.0138545,\n",
      "      \"read_bytes\": 958.9753677651611,\n",
      "      \"write_bytes\": 1263.2848790392832,\n",
      "      \"num_fds\": 27,\n",
      "      \"executing\": 0,\n",
      "      \"in_memory\": 0,\n",
      "      \"ready\": 0,\n",
      "      \"in_flight\": 0\n",
      "    }\n",
      "  }\n",
      "}\n"
     ]
    }
   ],
   "source": [
    "import json\n",
    "\n",
    "# Setup connection to cluster through scheduler\n",
    "client = Client('172.104.15.99:8786')\n",
    "print(json.dumps(client.scheduler_info(), indent=2))"
   ]
  },
  {
   "cell_type": "code",
   "execution_count": 12,
   "metadata": {},
   "outputs": [
    {
     "data": {
      "text/plain": [
       "'0.22.0'"
      ]
     },
     "execution_count": 12,
     "metadata": {},
     "output_type": "execute_result"
    }
   ],
   "source": [
    "import numpy as np\n",
    "import matplotlib.pyplot as plt\n",
    "import pandas as pd\n",
    "\n",
    "import dask.dataframe as dd\n",
    "\n",
    "pd.__version__"
   ]
  },
  {
   "cell_type": "code",
   "execution_count": 13,
   "metadata": {},
   "outputs": [
    {
     "name": "stdout",
     "output_type": "stream",
     "text": [
      "276190-2015,2015,276190,276190C,276190-2015-01,3,40/01 - OTHER,RECOVERED OUT OF TOWN STOLEN VEHICLE (NO OFFENSE),NA,Outdoor Area Public/Private,N/A,4100,,EASTER AVE,4100 EASTER AVE,,75216,DALLAS,TX,2494016.47394762,6942648.93940507,4299,726,South Central,720,4,,,11/27/2015 12:00:00 AM,2015,November,Fri,17:03,331,11/27/2015 12:00:00 AM,2015,November,Fri,17:03,331,11/27/2015 05:03:00 PM,11/27/2015 05:03:00 PM,,11/27/2015 12:00:00 AM,11/27/2015 12:00:00 AM,2015,November,Fri,18:21,331,11/27/2015 05:03:37 PM,11/27/2015 05:03:36 PM,11/28/2015 12:11:05 AM,11/27/2015 05:05:25 PM,Victim,,FORT WORTH PD,,,,,3128 W BOLT ST,,76110,FORT WORTH,TX,,,C,,8575,\"LOGAN,PAUL,ERVIN\",7993,\"WILLIAMS JR,THEOTIS\",8575,8021,90936,B716,Investigations,Special Investigations / Auto Theft,Suspended,,,,,2600,,2600,NA-99999999-X5,No Offense,99999999,No Offense,FOUND,FOUND PROPERTY,NOT CODED,RECOVER OUT OF TOWN STOLEN,No,,No,,No,12/01/2015 12:57:41 PM,\"4100 EASTER AVE\n",
      "(32.702066, -96.791665)\"\n"
     ]
    }
   ],
   "source": [
    "%%bash\n",
    "# Can't just read_csv\n",
    "# df = dd.read_csv('Police_Incidents.csv')\n",
    "# ParserError: Error tokenizing data. C error: EOF inside string starting at line 256\n",
    "\n",
    "sed -n '254p;256p' Police_Incidents.csv"
   ]
  },
  {
   "cell_type": "code",
   "execution_count": null,
   "metadata": {},
   "outputs": [],
   "source": []
  },
  {
   "cell_type": "code",
   "execution_count": null,
   "metadata": {},
   "outputs": [],
   "source": []
  },
  {
   "cell_type": "code",
   "execution_count": null,
   "metadata": {},
   "outputs": [],
   "source": []
  },
  {
   "cell_type": "code",
   "execution_count": null,
   "metadata": {},
   "outputs": [],
   "source": []
  },
  {
   "cell_type": "code",
   "execution_count": null,
   "metadata": {},
   "outputs": [],
   "source": []
  },
  {
   "cell_type": "code",
   "execution_count": null,
   "metadata": {},
   "outputs": [],
   "source": []
  },
  {
   "cell_type": "code",
   "execution_count": null,
   "metadata": {},
   "outputs": [],
   "source": []
  },
  {
   "cell_type": "code",
   "execution_count": null,
   "metadata": {},
   "outputs": [],
   "source": []
  },
  {
   "cell_type": "code",
   "execution_count": null,
   "metadata": {},
   "outputs": [],
   "source": []
  },
  {
   "cell_type": "code",
   "execution_count": null,
   "metadata": {},
   "outputs": [],
   "source": []
  }
 ],
 "metadata": {
  "kernelspec": {
   "display_name": "Python 3",
   "language": "python",
   "name": "python3"
  },
  "language_info": {
   "codemirror_mode": {
    "name": "ipython",
    "version": 3
   },
   "file_extension": ".py",
   "mimetype": "text/x-python",
   "name": "python",
   "nbconvert_exporter": "python",
   "pygments_lexer": "ipython3",
   "version": "3.6.4"
  }
 },
 "nbformat": 4,
 "nbformat_minor": 2
}
